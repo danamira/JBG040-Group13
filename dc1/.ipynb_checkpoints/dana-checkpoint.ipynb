{
 "cells": [
  {
   "cell_type": "code",
   "execution_count": 12,
   "id": "4ccff90add137733",
   "metadata": {
    "collapsed": false,
    "jupyter": {
     "outputs_hidden": false
    }
   },
   "outputs": [
    {
     "ename": "Exception",
     "evalue": "The input image should np.float32 in the range [0, 1]",
     "output_type": "error",
     "traceback": [
      "\u001b[0;31m---------------------------------------------------------------------------\u001b[0m",
      "\u001b[0;31mException\u001b[0m                                 Traceback (most recent call last)",
      "Cell \u001b[0;32mIn[12], line 56\u001b[0m\n\u001b[1;32m     49\u001b[0m x \u001b[38;5;241m=\u001b[39m np\u001b[38;5;241m.\u001b[39mstack((npimage,zeroes,zeroes),axis\u001b[38;5;241m=\u001b[39m\u001b[38;5;241m-\u001b[39m\u001b[38;5;241m1\u001b[39m)\n\u001b[1;32m     50\u001b[0m \u001b[38;5;66;03m# print(x)\u001b[39;00m\n\u001b[1;32m     51\u001b[0m \n\u001b[1;32m     52\u001b[0m \n\u001b[1;32m     53\u001b[0m \u001b[38;5;66;03m# quit()\u001b[39;00m\n\u001b[0;32m---> 56\u001b[0m visualization \u001b[38;5;241m=\u001b[39m \u001b[43mshow_cam_on_image\u001b[49m\u001b[43m(\u001b[49m\u001b[43mx\u001b[49m\u001b[43m,\u001b[49m\u001b[43m \u001b[49m\u001b[43mgrayscale_cam\u001b[49m\u001b[43m,\u001b[49m\u001b[43m \u001b[49m\u001b[43muse_rgb\u001b[49m\u001b[38;5;241;43m=\u001b[39;49m\u001b[38;5;28;43;01mTrue\u001b[39;49;00m\u001b[43m)\u001b[49m\n\u001b[1;32m     60\u001b[0m model_outputs \u001b[38;5;241m=\u001b[39m cam\u001b[38;5;241m.\u001b[39moutputs\n\u001b[1;32m     62\u001b[0m plt\u001b[38;5;241m.\u001b[39mimshow(x)\n",
      "File \u001b[0;32m~/Projects/DC/venv/lib/python3.9/site-packages/pytorch_grad_cam/utils/image.py:54\u001b[0m, in \u001b[0;36mshow_cam_on_image\u001b[0;34m(img, mask, use_rgb, colormap, image_weight)\u001b[0m\n\u001b[1;32m     51\u001b[0m heatmap \u001b[38;5;241m=\u001b[39m np\u001b[38;5;241m.\u001b[39mfloat32(heatmap) \u001b[38;5;241m/\u001b[39m \u001b[38;5;241m255\u001b[39m\n\u001b[1;32m     53\u001b[0m \u001b[38;5;28;01mif\u001b[39;00m np\u001b[38;5;241m.\u001b[39mmax(img) \u001b[38;5;241m>\u001b[39m \u001b[38;5;241m1\u001b[39m:\n\u001b[0;32m---> 54\u001b[0m     \u001b[38;5;28;01mraise\u001b[39;00m \u001b[38;5;167;01mException\u001b[39;00m(\n\u001b[1;32m     55\u001b[0m         \u001b[38;5;124m\"\u001b[39m\u001b[38;5;124mThe input image should np.float32 in the range [0, 1]\u001b[39m\u001b[38;5;124m\"\u001b[39m)\n\u001b[1;32m     57\u001b[0m \u001b[38;5;28;01mif\u001b[39;00m image_weight \u001b[38;5;241m<\u001b[39m \u001b[38;5;241m0\u001b[39m \u001b[38;5;129;01mor\u001b[39;00m image_weight \u001b[38;5;241m>\u001b[39m \u001b[38;5;241m1\u001b[39m:\n\u001b[1;32m     58\u001b[0m     \u001b[38;5;28;01mraise\u001b[39;00m \u001b[38;5;167;01mException\u001b[39;00m(\n\u001b[1;32m     59\u001b[0m         \u001b[38;5;124mf\u001b[39m\u001b[38;5;124m\"\u001b[39m\u001b[38;5;124mimage_weight should be in the range [0, 1].\u001b[39m\u001b[38;5;130;01m\\\u001b[39;00m\n\u001b[1;32m     60\u001b[0m \u001b[38;5;124m            Got: \u001b[39m\u001b[38;5;132;01m{\u001b[39;00mimage_weight\u001b[38;5;132;01m}\u001b[39;00m\u001b[38;5;124m\"\u001b[39m)\n",
      "\u001b[0;31mException\u001b[0m: The input image should np.float32 in the range [0, 1]"
     ]
    }
   ],
   "source": [
    "import matplotlib.pyplot as plt\n",
    "import torch\n",
    "import torchvision.transforms\n",
    "from pytorch_grad_cam import GradCAM, HiResCAM, ScoreCAM, GradCAMPlusPlus, AblationCAM, XGradCAM, EigenCAM, FullGrad\n",
    "import cv2\n",
    "from pytorch_grad_cam.utils.model_targets import ClassifierOutputTarget\n",
    "from pytorch_grad_cam.utils.image import show_cam_on_image\n",
    "# from resnet import ResNet,Bottleneck\n",
    "from resnet import ResNet,Bottleneck\n",
    "\n",
    "from image_dataset import ImageDataset\n",
    "from pathlib import Path\n",
    "import numpy as np\n",
    "\n",
    "\n",
    "\n",
    "model = ResNet(Bottleneck,layer_list=[1,3,4,2,1],num_classes=6,num_channels=1)\n",
    "\n",
    "lastConvLayer= [model.layer4[-1]]\n",
    "\n",
    "# print(lastConvLayer)\n",
    "\n",
    "cam = GradCAM(model=model,target_layers=lastConvLayer)\n",
    "\n",
    "trainData = ImageDataset(Path(\"data/X_train.npy\"), Path(\"data/Y_train.npy\"))\n",
    "\n",
    "img = trainData.__getitem__(0)\n",
    "\n",
    "\n",
    "\n",
    "\n",
    "targets = None\n",
    "\n",
    "grayscale_cam = cam(input_tensor=img[0].unsqueeze(0), targets=targets)\n",
    "\n",
    "# print(grayscale_cam[0].shape)\n",
    "# quit()\n",
    "grayscale_cam = grayscale_cam[0]\n",
    "\n",
    "\n",
    "\n",
    "\n",
    "\n",
    "npimage = img[0][0].numpy()*255\n",
    "npimage=npimage.astype(np.uint8)\n",
    "\n",
    "# print(npimage.cat([torch.zeros((128,128,1)),torch.zeros((128,128,1))]))\n",
    "zeroes = np.zeros_like(npimage)\n",
    "x = np.stack((npimage,zeroes,zeroes),axis=-1)\n",
    "# print(x)\n",
    "\n",
    "\n",
    "# quit()\n",
    "\n",
    "\n",
    "visualization = show_cam_on_image(x, grayscale_cam, use_rgb=True)\n",
    "\n",
    "\n",
    "\n",
    "model_outputs = cam.outputs\n",
    "\n",
    "plt.imshow(x)\n",
    "plt.show()\n"
   ]
  },
  {
   "cell_type": "code",
   "execution_count": 11,
   "id": "8e115006c8e290f6",
   "metadata": {
    "collapsed": false,
    "jupyter": {
     "outputs_hidden": false
    }
   },
   "outputs": [
    {
     "name": "stdout",
     "output_type": "stream",
     "text": [
      "[[  7   6   6 ...   3   5   5]\n",
      " [  1   1   1 ...   3   4   5]\n",
      " [  1   1   1 ...   3   4   5]\n",
      " ...\n",
      " [146 167 174 ... 200 147 129]\n",
      " [154 167 174 ... 191 157 119]\n",
      " [161 171 177 ... 199 171 110]]\n"
     ]
    }
   ],
   "source": [
    "print(npimage)"
   ]
  },
  {
   "cell_type": "code",
   "execution_count": null,
   "id": "7a1e78eb-45a7-4377-929c-92bd2e13024f",
   "metadata": {},
   "outputs": [],
   "source": []
  }
 ],
 "metadata": {
  "kernelspec": {
   "display_name": "Python 3 (ipykernel)",
   "language": "python",
   "name": "python3"
  },
  "language_info": {
   "codemirror_mode": {
    "name": "ipython",
    "version": 3
   },
   "file_extension": ".py",
   "mimetype": "text/x-python",
   "name": "python",
   "nbconvert_exporter": "python",
   "pygments_lexer": "ipython3",
   "version": "3.9.6"
  }
 },
 "nbformat": 4,
 "nbformat_minor": 5
}
