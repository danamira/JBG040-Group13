{
 "cells": [
  {
   "cell_type": "code",
   "execution_count": null,
   "id": "initial_id",
   "metadata": {
    "collapsed": true
   },
   "outputs": [],
   "source": []
  },
  {
   "cell_type": "code",
   "outputs": [],
   "source": [
    "import matplotlib.pyplot as plt\n",
    "import torch\n",
    "import torchvision.transforms\n",
    "from pytorch_grad_cam import GradCAM, HiResCAM, ScoreCAM, GradCAMPlusPlus, AblationCAM, XGradCAM, EigenCAM, FullGrad\n",
    "import cv2\n",
    "from pytorch_grad_cam.utils.model_targets import ClassifierOutputTarget\n",
    "from pytorch_grad_cam.utils.image import show_cam_on_image\n",
    "from resnet import ResNet,Bottleneck\n",
    "from image_dataset import ImageDataset\n",
    "from pathlib import Path\n",
    "import numpy as np\n",
    "\n",
    "\n",
    "\n",
    "model = ResNet(Bottleneck,layer_list=[1,3,4,2,1],num_classes=6,num_channels=1)\n",
    "\n",
    "lastConvLayer= [model.layer4[-1]]\n",
    "\n",
    "# print(lastConvLayer)\n",
    "\n",
    "cam = GradCAM(model=model,target_layers=lastConvLayer)\n",
    "\n",
    "trainData = ImageDataset(Path(\"dc1/data/X_train.npy\"), Path(\"dc1/data/Y_train.npy\"))\n",
    "\n",
    "img = trainData.__getitem__(0)\n",
    "\n",
    "\n",
    "\n",
    "\n",
    "targets = None\n",
    "\n",
    "grayscale_cam = cam(input_tensor=img[0].unsqueeze(0), targets=targets)\n",
    "\n",
    "# print(grayscale_cam[0].shape)\n",
    "# quit()\n",
    "grayscale_cam = grayscale_cam[0]\n",
    "\n",
    "\n",
    "\n",
    "\n",
    "\n",
    "npimage = img[0][0].numpy()/255\n",
    "npimage=npimage.astype(np.uint8)\n",
    "\n",
    "# print(npimage.cat([torch.zeros((128,128,1)),torch.zeros((128,128,1))]))\n",
    "zeroes = np.zeros_like(npimage)\n",
    "x = np.stack((npimage,zeroes,zeroes),axis=-1)\n",
    "# print(x)\n",
    "\n",
    "\n",
    "# quit()\n",
    "\n",
    "\n",
    "visualization = show_cam_on_image(x, grayscale_cam, use_rgb=True)\n",
    "\n",
    "\n",
    "\n",
    "model_outputs = cam.outputs\n",
    "\n",
    "plt.imshow(x)\n",
    "plt.show()\n"
   ],
   "metadata": {
    "collapsed": false,
    "is_executing": true
   },
   "id": "4ccff90add137733"
  },
  {
   "cell_type": "code",
   "outputs": [],
   "source": [],
   "metadata": {
    "collapsed": false
   },
   "id": "8e115006c8e290f6"
  }
 ],
 "metadata": {
  "kernelspec": {
   "display_name": "Python 3",
   "language": "python",
   "name": "python3"
  },
  "language_info": {
   "codemirror_mode": {
    "name": "ipython",
    "version": 2
   },
   "file_extension": ".py",
   "mimetype": "text/x-python",
   "name": "python",
   "nbconvert_exporter": "python",
   "pygments_lexer": "ipython2",
   "version": "2.7.6"
  }
 },
 "nbformat": 4,
 "nbformat_minor": 5
}
