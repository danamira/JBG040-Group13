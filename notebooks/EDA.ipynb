{
 "cells": [
  {
   "cell_type": "markdown",
   "metadata": {},
   "source": [
    "## Imports"
   ]
  },
  {
   "cell_type": "code",
   "execution_count": null,
   "metadata": {},
   "outputs": [],
   "source": [
    "import numpy as np\n",
    "import os\n",
    "from pathlib import Path\n",
    "import matplotlib.pyplot as plt\n",
    "import seaborn as sns\n",
    "sns.set()\n"
   ]
  },
  {
   "cell_type": "code",
   "execution_count": null,
   "metadata": {},
   "outputs": [],
   "source": [
    "# Change to parent directory\n",
    "path = Path.cwd()\n",
    "os.chdir(path.parent)"
   ]
  },
  {
   "cell_type": "code",
   "execution_count": null,
   "metadata": {},
   "outputs": [],
   "source": [
    "# Import the data\n",
    "X_train = np.load('data/X_train.npy')\n",
    "X_test = np.load('data/X_test.npy')\n",
    "y_train = np.load('data/Y_train.npy')\n",
    "y_test = np.load('data/Y_test.npy')"
   ]
  },
  {
   "cell_type": "markdown",
   "metadata": {},
   "source": [
    "## Format checks"
   ]
  },
  {
   "cell_type": "code",
   "execution_count": null,
   "metadata": {},
   "outputs": [],
   "source": [
    "# Do datasets have the same length?\n",
    "def check_shapes(train, test):\n",
    "    print(f'equal cardinality: {train.shape[0] == test.shape[0]}')\n",
    "\n",
    "check_shapes(X_train, y_train) # Train data\n",
    "check_shapes(X_test, y_test)   # Test data"
   ]
  },
  {
   "cell_type": "code",
   "execution_count": null,
   "metadata": {},
   "outputs": [],
   "source": [
    "# Data overview: counts, unique values statistics\n",
    "unique_vals, counts = np.unique(y_train, return_counts=True)\n",
    "\n",
    "print(f'Total train: \\n {len(y_train)}')\n",
    "print(f'Categories: \\n {unique_vals}')\n",
    "print(f'Counts: \\n {counts}')"
   ]
  },
  {
   "cell_type": "code",
   "execution_count": null,
   "metadata": {},
   "outputs": [],
   "source": [
    "sns.barplot(counts)"
   ]
  },
  {
   "cell_type": "code",
   "execution_count": null,
   "metadata": {},
   "outputs": [],
   "source": [
    "# Check if all images have the same format\n",
    "image_expected_shape = (128, 128)\n",
    "\n",
    "def expected_shape(image_dataset, expected_size) -> None:\n",
    "    same_shape = True\n",
    "    for datapoint in image_dataset:\n",
    "        if datapoint[0].shape != expected_size:\n",
    "            same_shape = False\n",
    "    print(f'expected shape: {same_shape}')\n",
    "\n",
    "expected_shape(X_train, image_expected_shape) # Training set\n",
    "expected_shape(X_test, image_expected_shape)  # Testing set"
   ]
  },
  {
   "cell_type": "markdown",
   "metadata": {},
   "source": [
    "### Is the data Normalized?"
   ]
  },
  {
   "cell_type": "code",
   "execution_count": null,
   "metadata": {},
   "outputs": [],
   "source": [
    "# Calculate MEAN and STD\n",
    "max_values = list()\n",
    "min_values = list()\n",
    "for datapoint in X_train:\n",
    "    max_values.append(np.max(datapoint[0]))\n",
    "    min_values.append(np.min(datapoint[0]))"
   ]
  },
  {
   "cell_type": "markdown",
   "metadata": {},
   "source": [
    "\"The most common pixel format is the byte image, where this number is stored as an 8-bit integer giving a range of possible values from 0 to 255. Typically zero is taken to be black, and 255 is taken to be white. Values in between make up the different shades of gray. Thus only integers are stored.\""
   ]
  },
  {
   "cell_type": "code",
   "execution_count": null,
   "metadata": {},
   "outputs": [],
   "source": [
    "np.max(max_values), np.min(min_values)"
   ]
  },
  {
   "cell_type": "markdown",
   "metadata": {},
   "source": [
    "### Are there any duplicates in the datasets?"
   ]
  },
  {
   "cell_type": "code",
   "execution_count": null,
   "metadata": {},
   "outputs": [],
   "source": [
    "def duplicates_(dataset):\n",
    "    num_duplicates = 0\n",
    "    seen = list()\n",
    "    for datapoint in dataset:\n",
    "        seen.append(datapoint[0])\n",
    "\n",
    "    j = 1\n",
    "    for i, _ in enumerate(seen):\n",
    "        while j < len(seen):\n",
    "            if (i != j) and (np.array_equal(seen[i], seen[j], equal_nan=True)) :\n",
    "                num_duplicates += 1\n",
    "            j += 1\n",
    "    print(f'Number of duplicates: {num_duplicates}')\n",
    "\n",
    "duplicates_(X_train)\n",
    "duplicates_(X_test)       "
   ]
  },
  {
   "cell_type": "markdown",
   "metadata": {},
   "source": [
    "## Distribution of data"
   ]
  },
  {
   "cell_type": "code",
   "execution_count": null,
   "metadata": {},
   "outputs": [],
   "source": [
    "# Calculate MEAN and STD\n",
    "mean_values = list()\n",
    "std_values = list()\n",
    "for datapoint in X_train:\n",
    "    mean_values.append(np.mean(datapoint[0]))\n",
    "    std_values.append(np.std(datapoint[0]))"
   ]
  },
  {
   "cell_type": "code",
   "execution_count": null,
   "metadata": {},
   "outputs": [],
   "source": [
    "# Plot the distribution of general image darkness\n",
    "plt.hist(mean_values);"
   ]
  },
  {
   "cell_type": "code",
   "execution_count": null,
   "metadata": {},
   "outputs": [],
   "source": [
    "# Distribution of image contrasts.\n",
    "plt.hist(std_values);"
   ]
  },
  {
   "cell_type": "markdown",
   "metadata": {},
   "source": [
    "## Check data distributions per category"
   ]
  },
  {
   "cell_type": "code",
   "execution_count": null,
   "metadata": {},
   "outputs": [],
   "source": [
    "# Check distributions per category\n",
    "def dist_per_cat(mean_data, std_data, y_data):\n",
    "    label_index_dict = {0: list(), \n",
    "                            1: list(), \n",
    "                            2: list(), \n",
    "                            3: list(), \n",
    "                            4: list(), \n",
    "                            5: list()}\n",
    "    mean_per_cat = label_index_dict.copy()\n",
    "    std_per_cat = label_index_dict.copy()\n",
    "\n",
    "    for j in range(6):\n",
    "        for label in y_data:\n",
    "            if label == j:\n",
    "                label_index_dict[j].append(True)\n",
    "            else:\n",
    "                label_index_dict[j].append(False)\n",
    "            \n",
    "    for cat in range(6): \n",
    "        mean_per_cat[cat] = [val for in_cat, val in zip(label_index_dict[cat], mean_data) if in_cat]\n",
    "\n",
    "    for cat in range(6): \n",
    "        std_per_cat[cat] = [val for in_cat, val in zip(label_index_dict[cat], std_data) if in_cat]\n",
    "\n",
    "    return mean_per_cat, std_per_cat\n",
    "\n",
    "mean_per_cat, std_per_cat = dist_per_cat(mean_values, std_values, y_train)"
   ]
  },
  {
   "cell_type": "code",
   "execution_count": null,
   "metadata": {},
   "outputs": [],
   "source": [
    "mean_per_cat.keys(), \n",
    "for val in mean_per_cat.values():\n",
    "    print(len(val))"
   ]
  },
  {
   "cell_type": "code",
   "execution_count": null,
   "metadata": {},
   "outputs": [],
   "source": [
    "sns.boxplot(data=mean_per_cat);"
   ]
  },
  {
   "cell_type": "code",
   "execution_count": null,
   "metadata": {},
   "outputs": [],
   "source": [
    "sns.boxplot(data=std_per_cat);"
   ]
  },
  {
   "cell_type": "markdown",
   "metadata": {},
   "source": [
    "### End of notebook\n",
    "// Alicia Larsen"
   ]
  }
 ],
 "metadata": {
  "kernelspec": {
   "display_name": "Data-Challenge-1",
   "language": "python",
   "name": "python3"
  },
  "language_info": {
   "codemirror_mode": {
    "name": "ipython",
    "version": 3
   },
   "file_extension": ".py",
   "mimetype": "text/x-python",
   "name": "python",
   "nbconvert_exporter": "python",
   "pygments_lexer": "ipython3",
   "version": "3.10.13"
  }
 },
 "nbformat": 4,
 "nbformat_minor": 2
}
